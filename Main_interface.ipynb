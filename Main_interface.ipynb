{
 "cells": [
  {
   "cell_type": "code",
   "execution_count": 2,
   "metadata": {
    "tags": [],
    "ExecuteTime": {
     "end_time": "2023-05-27T13:07:46.563273Z",
     "start_time": "2023-05-27T13:07:43.827344Z"
    }
   },
   "outputs": [],
   "source": [
    "from nbconvert import PythonExporter\n",
    "import nbformat\n",
    "import pandas as pd\n",
    "import json\n",
    "from datetime import datetime, timedelta"
   ]
  },
  {
   "cell_type": "markdown",
   "source": [
    "# Create the topic model and topic classifier"
   ],
   "metadata": {
    "collapsed": false
   }
  },
  {
   "cell_type": "markdown",
   "source": [
    "Only run once. It trains and creates the models and saves them to disk. Store somewhere else after running. The models will then be saved in the Models directory for future runs. There is no need to run this again, except if you want to retrain the models."
   ],
   "metadata": {
    "collapsed": false
   }
  },
  {
   "cell_type": "code",
   "execution_count": null,
   "outputs": [],
   "source": [
    "def run_notebook(notebook_path):\n",
    "    with open(notebook_path) as nb_file:\n",
    "        notebook = nbformat.read(nb_file, as_version=4)\n",
    "\n",
    "    python_exporter = PythonExporter()\n",
    "    python_source, _ = python_exporter.from_notebook_node(notebook)\n",
    "\n",
    "    exec(python_source, globals())\n",
    "\n",
    "#The #0 notebook is the one that retrieves data. I have extracted a sample already for use. The dataset is called final_MEMO_data.csv\n",
    "\n",
    "#The other two notebooks are the ones that preprocess the data and train the models. They are called #1_corpus_preprocessing.ipynb and #2_Topic_Modelling_&_Classifier.ipynb\n",
    "\n",
    "#only run the #0 notebook once. It will extract the data from the InfoDesk API and save it to disk. The other two notebooks can be run as many times as you want to retrain the models.\n",
    "\n",
    "notebook_paths = [ #'#0_extract_data_from_infodesk.ipynb'\n",
    "                  '/Users/carljohanson/Desktop/Speciale - Code Project/Code/Backend-Code/#1_corpus_preprocessing.ipynb',\n",
    "                  '/Users/carljohanson/Desktop/Speciale - Code Project/Code/Backend-Code/#2_Topic_Modelling_&_Classifier.ipynb']\n",
    "\n",
    "for path in notebook_paths:\n",
    "    run_notebook(path)"
   ],
   "metadata": {
    "collapsed": false
   }
  },
  {
   "cell_type": "markdown",
   "source": [
    "# Classify the daily MEMO"
   ],
   "metadata": {
    "collapsed": false
   }
  },
  {
   "cell_type": "markdown",
   "source": [
    "Determine the time period to extract the data from and export in into the extracter. This will be the last 24 hours. Change at will"
   ],
   "metadata": {
    "collapsed": false
   }
  },
  {
   "cell_type": "code",
   "execution_count": 5,
   "outputs": [],
   "source": [
    "#get the current time\n",
    "now = datetime.utcnow()\n",
    "\n",
    "#get 24 hours before now\n",
    "twenty_four_hours_ago = now - timedelta(days=1)\n",
    "\n",
    "#convert to the required format\n",
    "end_date = now.strftime(\"%Y-%m-%dT%H:%M:%S.701Z\") # End date is current time\n",
    "start_date = twenty_four_hours_ago.strftime(\"%Y-%m-%dT%H:%M:%S.701Z\") # Start date is 24 hours ago\n",
    "\n",
    "#your data\n",
    "data = {\n",
    "    \"start_date\": start_date,\n",
    "    \"end_date\": end_date\n",
    "}\n",
    "\n",
    "#write to a JSON file into the same directory\n",
    "with open('data/dates.json', 'w') as f:\n",
    "    json.dump(data, f)"
   ],
   "metadata": {
    "collapsed": false,
    "ExecuteTime": {
     "end_time": "2023-05-27T14:10:49.341459Z",
     "start_time": "2023-05-27T14:10:49.331448Z"
    }
   }
  },
  {
   "cell_type": "markdown",
   "source": [
    "Change the profiles for retrieving the new MEMO. Change once, and then run the extracter, repeat until finished"
   ],
   "metadata": {
    "collapsed": false
   }
  },
  {
   "cell_type": "code",
   "execution_count": 4,
   "outputs": [],
   "source": [
    "profiles = 'zojw' #adjust to change profiles\n",
    "\n",
    "#'clxj', 'nk93', 'tuc3', 'qkfq', 'duvj', 'uctf', 'u0vc', 'ggnd', 'xb2m', 'dofq', '4hwz', '5ls8', 'klhg', 'jmnc', 'kvkg', 'hj7v', 'xfdy', '9cxo', 'jeh2', 'zojw'\n",
    "\n",
    "#your data\n",
    "data = {\n",
    "    \"profiles\": profiles,\n",
    "}\n",
    "\n",
    "#write to a JSON file into the same directory\n",
    "with open('data/profiles.json', 'w') as f:\n",
    "    json.dump(data, f)"
   ],
   "metadata": {
    "collapsed": false,
    "ExecuteTime": {
     "end_time": "2023-05-27T14:10:08.160841Z",
     "start_time": "2023-05-27T14:10:08.148807Z"
    }
   }
  },
  {
   "cell_type": "markdown",
   "source": [
    "Extract the daily batch memo text from the database using the InfoDesk API.\n",
    "Right now there is no way to get all profiles at once. The profiles are extracted one by one and then concatenated into one dataframe. This is a manual process done above. Repeat until all profiles are extracted."
   ],
   "metadata": {
    "collapsed": false
   }
  },
  {
   "cell_type": "code",
   "execution_count": null,
   "outputs": [],
   "source": [
    "def run_notebook(notebook_path):\n",
    "    with open(notebook_path) as nb_file:\n",
    "        notebook = nbformat.read(nb_file, as_version=4)\n",
    "\n",
    "    python_exporter = PythonExporter()\n",
    "    python_source, _ = python_exporter.from_notebook_node(notebook)\n",
    "\n",
    "    exec(python_source, globals())\n",
    "\n",
    "notebook_paths = ['/Users/carljohanson/Desktop/Speciale - Code Project/Code/Backend-Code/#3_get_new_memo_articles_from_infodesk.ipynb']\n",
    "\n",
    "for path in notebook_paths:\n",
    "    run_notebook(path)"
   ],
   "metadata": {
    "collapsed": false
   }
  },
  {
   "cell_type": "markdown",
   "source": [
    "Concatenate the JSON files into one dataframe for preprocessing. First done after all profiles have been extracted."
   ],
   "metadata": {
    "collapsed": false
   }
  },
  {
   "cell_type": "code",
   "execution_count": null,
   "outputs": [],
   "source": [
    "def run_notebook(notebook_path):\n",
    "    with open(notebook_path) as nb_file:\n",
    "        notebook = nbformat.read(nb_file, as_version=4)\n",
    "\n",
    "    python_exporter = PythonExporter()\n",
    "    python_source, _ = python_exporter.from_notebook_node(notebook)\n",
    "\n",
    "    exec(python_source, globals())\n",
    "\n",
    "notebook_paths = ['/Users/carljohanson/Desktop/Speciale - Code Project/Code/Backend-Code/#4_concatenate_JSON_files.ipynb']\n",
    "\n",
    "for path in notebook_paths:\n",
    "    run_notebook(path)"
   ],
   "metadata": {
    "collapsed": false
   }
  },
  {
   "cell_type": "markdown",
   "source": [
    "Text pre-process the new MEMO data and categorise the articles."
   ],
   "metadata": {
    "collapsed": false
   }
  },
  {
   "cell_type": "code",
   "execution_count": null,
   "outputs": [],
   "source": [
    "def run_notebook(notebook_path):\n",
    "    with open(notebook_path) as nb_file:\n",
    "        notebook = nbformat.read(nb_file, as_version=4)\n",
    "\n",
    "    python_exporter = PythonExporter()\n",
    "    python_source, _ = python_exporter.from_notebook_node(notebook)\n",
    "\n",
    "    exec(python_source, globals())\n",
    "\n",
    "notebook_paths = ['/Users/carljohanson/Desktop/Speciale - Code Project/Code/Backend-Code/#5_preprocess_new_memo.ipynb']\n",
    "\n",
    "for path in notebook_paths:\n",
    "    run_notebook(path)"
   ],
   "metadata": {
    "collapsed": false
   }
  },
  {
   "cell_type": "markdown",
   "source": [
    "The daily and classified MEMO ready for use"
   ],
   "metadata": {
    "collapsed": false
   }
  },
  {
   "cell_type": "code",
   "execution_count": 3,
   "outputs": [
    {
     "data": {
      "text/plain": "                                          description language   \n0    use of machine learning model that incorporat...       en  \\\n1    new device invented with the help of an elect...       en   \n2    in this interview we spoke to adrian krainer ...       en   \n3    retrospective analysis of patient data from t...       en   \n4    architects can now easily implement secure pa...       en   \n5    the pharmacy technician society will advocate...       en   \n6    donation will help fund middle school sports ...       en   \n7    tried getting my prescriptions from amazon ph...       en   \n8    maternal hypothyroidism may increase the risk...       en   \n9    may today the s food and drug administration ...       en   \n10   st louis based bjc healthcare hospital system...       en   \n11   there are rural hospitals at risk of closure ...       en   \n12   president joe biden and house speaker kevin m...       en   \n13   maine resident died from powassan virus rare ...       en   \n14   buffalo y based biopharmaceutical company fil...       en   \n15   below are three health systems and hospitals ...       en   \n16   salt lake city based intermountain health rep...       en   \n17   bright health consolidated its shares by one ...       en   \n18   in episode of the chartwell chronicles host c...       en   \n19   the good old days are long gone in which pedi...       en   \n20   large study found marijuana users had almost ...       en   \n21   neural tube defects are major public health i...       en   \n22   repeat revascularization not reased with solo...       en   \n23   allied market research published report title...       en   \n24   the global dental digital ray market is drive...       en   \n25   optimal design brings deep experience and hig...       en   \n26   die für die massenproduktion vorbereitete cel...       de   \n27   danish researchers have developed new method ...       en   \n28   claim white house news release says that dr m...       en   \n29   stereotaxis announced global collaboration wi...       en   \n30   first of all congratulate prime minister of j...       en   \n31   reuters shares of intercept pharmaceuticals f...       en   \n32   cmi health leading provider of professional m...       en   \n33   cq health morning take mifepristone and medic...       en   \n34   audi is offering its employees around the glo...       en   \n35   s house senate leaders plan for votes next we...       en   \n36   london may ians simple initiatives to help pe...       en   \n37   london cnn meta has been fined record breakin...       en   \n38   researchers at st andrews medical school foun...       en   \n39   milan stockholm may reuters italy data protec...       en   \n40   this week rio city council is expected to vot...       en   \n41   access the original document here cdc and spe...       en   \n42   may ghana news agency path ghana an implement...       en   \n43   the project marks key milestone in family han...       en   \n44   brother bond bourbon newest releases have rec...       en   \n45   the apex award for partner excellence was awa...       en   \n46   the edition of study puts charles schwab firs...       en   \n47   new york may the toy association today unveil...       en   \n48   portland ore may of cfo and it personnel at l...       en   \n49   led by doug frost master of wine and master s...       en   \n\n    predicted_topic  \n0                 8  \n1                18  \n2                 0  \n3                18  \n4                11  \n5                 3  \n6                 9  \n7                 4  \n8                 4  \n9                17  \n10                7  \n11                6  \n12                4  \n13               18  \n14                6  \n15                6  \n16                7  \n17               15  \n18               19  \n19                4  \n20               18  \n21               18  \n22                4  \n23                4  \n24                7  \n25                7  \n26                3  \n27               18  \n28                6  \n29               11  \n30                3  \n31               12  \n32               15  \n33               16  \n34                6  \n35                2  \n36                4  \n37                6  \n38                9  \n39                6  \n40                7  \n41               11  \n42                4  \n43                7  \n44               16  \n45               15  \n46                4  \n47                0  \n48                6  \n49               16  ",
      "text/html": "<div>\n<style scoped>\n    .dataframe tbody tr th:only-of-type {\n        vertical-align: middle;\n    }\n\n    .dataframe tbody tr th {\n        vertical-align: top;\n    }\n\n    .dataframe thead th {\n        text-align: right;\n    }\n</style>\n<table border=\"1\" class=\"dataframe\">\n  <thead>\n    <tr style=\"text-align: right;\">\n      <th></th>\n      <th>description</th>\n      <th>language</th>\n      <th>predicted_topic</th>\n    </tr>\n  </thead>\n  <tbody>\n    <tr>\n      <th>0</th>\n      <td>use of machine learning model that incorporat...</td>\n      <td>en</td>\n      <td>8</td>\n    </tr>\n    <tr>\n      <th>1</th>\n      <td>new device invented with the help of an elect...</td>\n      <td>en</td>\n      <td>18</td>\n    </tr>\n    <tr>\n      <th>2</th>\n      <td>in this interview we spoke to adrian krainer ...</td>\n      <td>en</td>\n      <td>0</td>\n    </tr>\n    <tr>\n      <th>3</th>\n      <td>retrospective analysis of patient data from t...</td>\n      <td>en</td>\n      <td>18</td>\n    </tr>\n    <tr>\n      <th>4</th>\n      <td>architects can now easily implement secure pa...</td>\n      <td>en</td>\n      <td>11</td>\n    </tr>\n    <tr>\n      <th>5</th>\n      <td>the pharmacy technician society will advocate...</td>\n      <td>en</td>\n      <td>3</td>\n    </tr>\n    <tr>\n      <th>6</th>\n      <td>donation will help fund middle school sports ...</td>\n      <td>en</td>\n      <td>9</td>\n    </tr>\n    <tr>\n      <th>7</th>\n      <td>tried getting my prescriptions from amazon ph...</td>\n      <td>en</td>\n      <td>4</td>\n    </tr>\n    <tr>\n      <th>8</th>\n      <td>maternal hypothyroidism may increase the risk...</td>\n      <td>en</td>\n      <td>4</td>\n    </tr>\n    <tr>\n      <th>9</th>\n      <td>may today the s food and drug administration ...</td>\n      <td>en</td>\n      <td>17</td>\n    </tr>\n    <tr>\n      <th>10</th>\n      <td>st louis based bjc healthcare hospital system...</td>\n      <td>en</td>\n      <td>7</td>\n    </tr>\n    <tr>\n      <th>11</th>\n      <td>there are rural hospitals at risk of closure ...</td>\n      <td>en</td>\n      <td>6</td>\n    </tr>\n    <tr>\n      <th>12</th>\n      <td>president joe biden and house speaker kevin m...</td>\n      <td>en</td>\n      <td>4</td>\n    </tr>\n    <tr>\n      <th>13</th>\n      <td>maine resident died from powassan virus rare ...</td>\n      <td>en</td>\n      <td>18</td>\n    </tr>\n    <tr>\n      <th>14</th>\n      <td>buffalo y based biopharmaceutical company fil...</td>\n      <td>en</td>\n      <td>6</td>\n    </tr>\n    <tr>\n      <th>15</th>\n      <td>below are three health systems and hospitals ...</td>\n      <td>en</td>\n      <td>6</td>\n    </tr>\n    <tr>\n      <th>16</th>\n      <td>salt lake city based intermountain health rep...</td>\n      <td>en</td>\n      <td>7</td>\n    </tr>\n    <tr>\n      <th>17</th>\n      <td>bright health consolidated its shares by one ...</td>\n      <td>en</td>\n      <td>15</td>\n    </tr>\n    <tr>\n      <th>18</th>\n      <td>in episode of the chartwell chronicles host c...</td>\n      <td>en</td>\n      <td>19</td>\n    </tr>\n    <tr>\n      <th>19</th>\n      <td>the good old days are long gone in which pedi...</td>\n      <td>en</td>\n      <td>4</td>\n    </tr>\n    <tr>\n      <th>20</th>\n      <td>large study found marijuana users had almost ...</td>\n      <td>en</td>\n      <td>18</td>\n    </tr>\n    <tr>\n      <th>21</th>\n      <td>neural tube defects are major public health i...</td>\n      <td>en</td>\n      <td>18</td>\n    </tr>\n    <tr>\n      <th>22</th>\n      <td>repeat revascularization not reased with solo...</td>\n      <td>en</td>\n      <td>4</td>\n    </tr>\n    <tr>\n      <th>23</th>\n      <td>allied market research published report title...</td>\n      <td>en</td>\n      <td>4</td>\n    </tr>\n    <tr>\n      <th>24</th>\n      <td>the global dental digital ray market is drive...</td>\n      <td>en</td>\n      <td>7</td>\n    </tr>\n    <tr>\n      <th>25</th>\n      <td>optimal design brings deep experience and hig...</td>\n      <td>en</td>\n      <td>7</td>\n    </tr>\n    <tr>\n      <th>26</th>\n      <td>die für die massenproduktion vorbereitete cel...</td>\n      <td>de</td>\n      <td>3</td>\n    </tr>\n    <tr>\n      <th>27</th>\n      <td>danish researchers have developed new method ...</td>\n      <td>en</td>\n      <td>18</td>\n    </tr>\n    <tr>\n      <th>28</th>\n      <td>claim white house news release says that dr m...</td>\n      <td>en</td>\n      <td>6</td>\n    </tr>\n    <tr>\n      <th>29</th>\n      <td>stereotaxis announced global collaboration wi...</td>\n      <td>en</td>\n      <td>11</td>\n    </tr>\n    <tr>\n      <th>30</th>\n      <td>first of all congratulate prime minister of j...</td>\n      <td>en</td>\n      <td>3</td>\n    </tr>\n    <tr>\n      <th>31</th>\n      <td>reuters shares of intercept pharmaceuticals f...</td>\n      <td>en</td>\n      <td>12</td>\n    </tr>\n    <tr>\n      <th>32</th>\n      <td>cmi health leading provider of professional m...</td>\n      <td>en</td>\n      <td>15</td>\n    </tr>\n    <tr>\n      <th>33</th>\n      <td>cq health morning take mifepristone and medic...</td>\n      <td>en</td>\n      <td>16</td>\n    </tr>\n    <tr>\n      <th>34</th>\n      <td>audi is offering its employees around the glo...</td>\n      <td>en</td>\n      <td>6</td>\n    </tr>\n    <tr>\n      <th>35</th>\n      <td>s house senate leaders plan for votes next we...</td>\n      <td>en</td>\n      <td>2</td>\n    </tr>\n    <tr>\n      <th>36</th>\n      <td>london may ians simple initiatives to help pe...</td>\n      <td>en</td>\n      <td>4</td>\n    </tr>\n    <tr>\n      <th>37</th>\n      <td>london cnn meta has been fined record breakin...</td>\n      <td>en</td>\n      <td>6</td>\n    </tr>\n    <tr>\n      <th>38</th>\n      <td>researchers at st andrews medical school foun...</td>\n      <td>en</td>\n      <td>9</td>\n    </tr>\n    <tr>\n      <th>39</th>\n      <td>milan stockholm may reuters italy data protec...</td>\n      <td>en</td>\n      <td>6</td>\n    </tr>\n    <tr>\n      <th>40</th>\n      <td>this week rio city council is expected to vot...</td>\n      <td>en</td>\n      <td>7</td>\n    </tr>\n    <tr>\n      <th>41</th>\n      <td>access the original document here cdc and spe...</td>\n      <td>en</td>\n      <td>11</td>\n    </tr>\n    <tr>\n      <th>42</th>\n      <td>may ghana news agency path ghana an implement...</td>\n      <td>en</td>\n      <td>4</td>\n    </tr>\n    <tr>\n      <th>43</th>\n      <td>the project marks key milestone in family han...</td>\n      <td>en</td>\n      <td>7</td>\n    </tr>\n    <tr>\n      <th>44</th>\n      <td>brother bond bourbon newest releases have rec...</td>\n      <td>en</td>\n      <td>16</td>\n    </tr>\n    <tr>\n      <th>45</th>\n      <td>the apex award for partner excellence was awa...</td>\n      <td>en</td>\n      <td>15</td>\n    </tr>\n    <tr>\n      <th>46</th>\n      <td>the edition of study puts charles schwab firs...</td>\n      <td>en</td>\n      <td>4</td>\n    </tr>\n    <tr>\n      <th>47</th>\n      <td>new york may the toy association today unveil...</td>\n      <td>en</td>\n      <td>0</td>\n    </tr>\n    <tr>\n      <th>48</th>\n      <td>portland ore may of cfo and it personnel at l...</td>\n      <td>en</td>\n      <td>6</td>\n    </tr>\n    <tr>\n      <th>49</th>\n      <td>led by doug frost master of wine and master s...</td>\n      <td>en</td>\n      <td>16</td>\n    </tr>\n  </tbody>\n</table>\n</div>"
     },
     "execution_count": 3,
     "metadata": {},
     "output_type": "execute_result"
    }
   ],
   "source": [
    "#load the new memo with the categorised articles\n",
    "new_memo = pd.read_csv('/Users/carljohanson/Desktop/Speciale - Code Project/Code/Results/prepared_memo.csv')\n",
    "\n",
    "new_memo"
   ],
   "metadata": {
    "collapsed": false,
    "ExecuteTime": {
     "end_time": "2023-05-23T07:32:52.069069Z",
     "start_time": "2023-05-23T07:32:52.031879Z"
    }
   }
  },
  {
   "cell_type": "code",
   "execution_count": null,
   "outputs": [],
   "source": [],
   "metadata": {
    "collapsed": false
   }
  }
 ],
 "metadata": {
  "kernelspec": {
   "display_name": "Python 3 (ipykernel)",
   "language": "python",
   "name": "python3"
  },
  "language_info": {
   "codemirror_mode": {
    "name": "ipython",
    "version": 3
   },
   "file_extension": ".py",
   "mimetype": "text/x-python",
   "name": "python",
   "nbconvert_exporter": "python",
   "pygments_lexer": "ipython3",
   "version": "3.9.13"
  }
 },
 "nbformat": 4,
 "nbformat_minor": 4
}
