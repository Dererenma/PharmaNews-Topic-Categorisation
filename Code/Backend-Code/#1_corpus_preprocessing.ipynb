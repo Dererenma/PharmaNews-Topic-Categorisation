{
 "cells": [
  {
   "cell_type": "markdown",
   "source": [
    "## Preprocessing of the InfoDesk dataset"
   ],
   "metadata": {
    "collapsed": false
   }
  },
  {
   "cell_type": "markdown",
   "source": [
    "Import Libraries"
   ],
   "metadata": {
    "collapsed": false
   }
  },
  {
   "cell_type": "code",
   "execution_count": null,
   "id": "a8221da3-7211-4017-bb93-f942ea330034",
   "metadata": {},
   "outputs": [],
   "source": [
    "import warnings\n",
    "warnings.filterwarnings(\"ignore\")\n",
    "\n",
    "import pandas as pd\n",
    "# set the display options to show all the columns and rows of the dataframe\n",
    "pd.set_option('display.max_rows', 500)\n",
    "pd.set_option('display.max_columns', 500)\n",
    "pd.set_option('display.width', 1000)\n",
    "import numpy as np\n",
    "import re\n",
    "from wordcloud import WordCloud\n",
    "import matplotlib.pyplot as plt"
   ]
  },
  {
   "cell_type": "markdown",
   "id": "e5b49922-3817-4110-b5d0-91a3d2a0a53d",
   "metadata": {},
   "source": [
    "Read the dataset, separate by tab and then concatenate into a dataframe"
   ]
  },
  {
   "cell_type": "code",
   "execution_count": null,
   "id": "c6ed2849-4c7f-4bce-9655-fe731dd11b69",
   "metadata": {},
   "outputs": [],
   "source": [
    "# read in the csv file\n",
    "df = pd.read_csv('/Users/carljohanson/Desktop/Speciale - Code Project/data/final_MEMO_data.csv', delimiter='\\t')\n",
    "\n",
    "df.columns = ['column1', 'column2', 'column3']\n",
    "\n",
    "# concatenate the three columns into a new column with all data\n",
    "df['description'] = df.apply(lambda x: ','.join(x.dropna().astype(str)), axis=1)\n",
    "\n",
    "# drop the original columns\n",
    "df.drop(columns=['column1', 'column2', 'column3'], inplace=True)\n",
    "\n",
    "df"
   ]
  },
  {
   "cell_type": "code",
   "execution_count": null,
   "outputs": [],
   "source": [
    "# concatenate all the text strings in the 'description' column\n",
    "text = ' '.join(df['description'].astype(str).tolist())\n",
    "\n",
    "# create a WordCloud object\n",
    "wordcloud = WordCloud(width=800, height=800, background_color='white', min_font_size=10).generate(text)\n",
    "\n",
    "# plot the WordCloud\n",
    "plt.figure(figsize=(8, 8), facecolor=None)\n",
    "plt.imshow(wordcloud)\n",
    "plt.axis('off')\n",
    "plt.tight_layout(pad=0)\n",
    "plt.show()"
   ],
   "metadata": {
    "collapsed": false
   }
  },
  {
   "cell_type": "markdown",
   "id": "d547d57a-cab4-4109-a155-961e0bcb3f6b",
   "metadata": {},
   "source": [
    "Clean the text: remove all non-relevant information, punctuations, missing values etc."
   ]
  },
  {
   "cell_type": "code",
   "execution_count": null,
   "id": "e95f96f0-4b22-44ad-b7d8-5a21c3ac6423",
   "metadata": {},
   "outputs": [],
   "source": [
    "# define a regular expression pattern to match the XML tags and attributes\n",
    "pattern = re.compile(r'<.*?>')\n",
    "\n",
    "# apply the regular expression pattern to remove the tags and attributes from the text\n",
    "df['description'] = df['description'].apply(lambda x: re.sub(pattern, ' ', x))\n",
    "\n",
    "#remove missing values\n",
    "df.dropna(subset=['description'], inplace=True)\n",
    "\n",
    "#remove duplicates\n",
    "df = df.drop_duplicates()\n",
    "\n",
    "print(df.head(20))"
   ]
  },
  {
   "cell_type": "code",
   "execution_count": null,
   "id": "dc0db1e5-a3aa-4f41-9e71-17e7ea7f4c08",
   "metadata": {},
   "outputs": [],
   "source": [
    "df.shape"
   ]
  },
  {
   "cell_type": "code",
   "execution_count": null,
   "outputs": [],
   "source": [
    "# concatenate all the text strings in the 'description' column\n",
    "text = ' '.join(df['description'].astype(str).tolist())\n",
    "\n",
    "# create a WordCloud object\n",
    "wordcloud = WordCloud(width=800, height=800, background_color='white', min_font_size=10).generate(text)\n",
    "\n",
    "# plot the WordCloud\n",
    "plt.figure(figsize=(8, 8), facecolor=None)\n",
    "plt.imshow(wordcloud)\n",
    "plt.axis('off')\n",
    "plt.tight_layout(pad=0)\n",
    "plt.show()"
   ],
   "metadata": {
    "collapsed": false
   }
  },
  {
   "cell_type": "code",
   "execution_count": null,
   "id": "a65799ac-de3b-4904-a42c-b99277b40b66",
   "metadata": {},
   "outputs": [],
   "source": [
    "#clean the text\n",
    "\n",
    "#remove certain words from the description column\n",
    "df['description'] = df['description'].str.replace('PRNewswire', '').str.replace('NASDAQ', '').str.replace('draft', '').str.replace('EINPresswire', '').str.replace('ResearchAndMarkets', '').str.replace('Inc','').str.replace('please','').str.replace('Inc','')\n",
    "\n",
    "def preprocess_text(text):\n",
    "    \n",
    "    # Remove punctuation and special characters\n",
    "    text = re.sub(r'\\W', ' ', text)\n",
    "\n",
    "    # remove numbers\n",
    "    text = re.sub(r'\\d+', '', text)\n",
    "\n",
    "    # Remove single characters\n",
    "    text = re.sub(r'\\s+[a-zA-Z]\\s+', ' ', text)\n",
    "\n",
    "    # Convert to lowercase\n",
    "    text = text.lower()\n",
    "    \n",
    "    # Remove extra spaces\n",
    "    text = re.sub(r'\\s+', ' ', text)\n",
    "    \n",
    "    return text\n",
    "\n",
    "# apply the preprocess_text function to the text column of the dataframe\n",
    "df['description'] = df['description'].apply(preprocess_text)\n",
    "\n",
    "#remove duplicates for king knut\n",
    "df = df.drop_duplicates()\n",
    "\n",
    "#remove missing values for king knut\n",
    "df.dropna(subset=['description'], inplace=True)\n",
    "\n",
    "df.head(20)"
   ]
  },
  {
   "cell_type": "code",
   "execution_count": null,
   "outputs": [],
   "source": [
    "df.shape"
   ],
   "metadata": {
    "collapsed": false
   }
  },
  {
   "cell_type": "code",
   "execution_count": null,
   "outputs": [],
   "source": [
    "# concatenate all the text strings in the 'description' column\n",
    "text = ' '.join(df['description'].astype(str).tolist())\n",
    "\n",
    "# create a WordCloud object\n",
    "wordcloud = WordCloud(width=800, height=800, background_color='white', min_font_size=10).generate(text)\n",
    "\n",
    "# plot the WordCloud\n",
    "plt.figure(figsize=(8, 8), facecolor=None)\n",
    "plt.imshow(wordcloud)\n",
    "plt.axis('off')\n",
    "plt.tight_layout(pad=0)\n",
    "plt.show()"
   ],
   "metadata": {
    "collapsed": false
   }
  },
  {
   "cell_type": "code",
   "execution_count": null,
   "outputs": [],
   "source": [
    "#remove rows/documents with less than 5 words\n",
    "df = df[df['description'].apply(lambda x: len(x.split()) >= 5)]\n",
    "\n",
    "print(df.head(20))"
   ],
   "metadata": {
    "collapsed": false
   }
  },
  {
   "cell_type": "code",
   "execution_count": null,
   "outputs": [],
   "source": [
    "df.shape"
   ],
   "metadata": {
    "collapsed": false
   }
  },
  {
   "cell_type": "markdown",
   "source": [
    "Translate the text to English"
   ],
   "metadata": {
    "collapsed": false
   }
  },
  {
   "cell_type": "code",
   "execution_count": null,
   "id": "731233f6-f228-49e0-95d5-b31d6aa299b3",
   "metadata": {},
   "outputs": [],
   "source": [
    "from langdetect import detect, DetectorFactory\n",
    "from deep_translator import GoogleTranslator\n",
    "\n",
    "# Make language detection deterministic\n",
    "DetectorFactory.seed = 0\n",
    "\n",
    "# Define language detection function\n",
    "def detect_language(text):\n",
    "    try:\n",
    "        return detect(text)\n",
    "    except:\n",
    "        return 'unknown'\n",
    "\n",
    "# Define fallback language\n",
    "fallback_language = 'en'\n",
    "\n",
    "# Define placeholder string\n",
    "placeholder = 'XXXXX'\n",
    "\n",
    "# Detect language of 'description' column and translate text to English if necessary\n",
    "df['language'] = df['description'].apply(detect_language)\n",
    "df['description_no_nn'] = df['description'].str.replace('novo nordisk', placeholder)\n",
    "df['translated_text'] = ''\n",
    "\n",
    "for index, row in df.iterrows():\n",
    "    # Replace 'zh-cn' with 'chinese (simplified)'\n",
    "    lang = 'chinese (simplified)' if row['language'] == 'zh-cn' else row['language']\n",
    "\n",
    "    if lang != 'en' and lang != 'unknown':\n",
    "        try:\n",
    "            translation = GoogleTranslator(source=lang, target='en').translate(row['description_no_nn'])\n",
    "            translation = translation.replace(placeholder, 'novo nordisk')\n",
    "        except Exception as e:\n",
    "            print(f\"Translation failed for index {index} with source language {lang}. Error: {e}\")\n",
    "            continue\n",
    "        df.at[index, 'translated_text'] = translation\n",
    "    else:\n",
    "        df.at[index, 'translated_text'] = row['description_no_nn'].replace(placeholder, 'novo nordisk')"
   ]
  },
  {
   "cell_type": "code",
   "execution_count": null,
   "id": "758370e7-2b9c-4a0a-9047-90a3eeaea957",
   "metadata": {},
   "outputs": [],
   "source": [
    "#remove duplicates for king knut\n",
    "df = df.drop_duplicates()\n",
    "\n",
    "#remove missing values for king knut\n",
    "# Replace 'unknown' values with NaN\n",
    "df = df.replace('unknown', np.nan)\n",
    "\n",
    "# Drop rows with NaN values\n",
    "df = df.dropna()\n",
    "\n",
    "df.head(20)"
   ]
  },
  {
   "cell_type": "code",
   "execution_count": null,
   "outputs": [],
   "source": [
    "df.shape"
   ],
   "metadata": {
    "collapsed": false
   }
  },
  {
   "cell_type": "code",
   "execution_count": null,
   "outputs": [],
   "source": [
    "#return the values of column language\n",
    "df['language'].value_counts()"
   ],
   "metadata": {
    "collapsed": false
   }
  },
  {
   "cell_type": "code",
   "execution_count": null,
   "outputs": [],
   "source": [
    "#detect language in the translated_text column\n",
    "df['language_after'] = df['translated_text'].apply(detect_language)\n",
    "df['language_after'].value_counts()"
   ],
   "metadata": {
    "collapsed": false
   }
  },
  {
   "cell_type": "code",
   "execution_count": null,
   "outputs": [],
   "source": [
    "# Filter out non-English rows\n",
    "df = df[df['language'] == 'en']\n",
    "\n",
    "df['language_after'].value_counts()"
   ],
   "metadata": {
    "collapsed": false
   }
  },
  {
   "cell_type": "code",
   "execution_count": null,
   "outputs": [],
   "source": [
    "df.shape"
   ],
   "metadata": {
    "collapsed": false
   }
  },
  {
   "cell_type": "code",
   "execution_count": null,
   "id": "60988c86",
   "metadata": {
    "collapsed": false,
    "jupyter": {
     "outputs_hidden": false
    }
   },
   "outputs": [],
   "source": [
    "sentences = df['translated_text']\n",
    "\n",
    "all_words = \"\".join(str(i) for i in sentences)\n",
    "\n",
    "# Import the wordcloud library\n",
    "from wordcloud import WordCloud\n",
    "\n",
    "# Create a WordCloud object\n",
    "wordcloud = WordCloud(background_color=\"white\", max_words=5000, contour_width=3, contour_color='steelblue')\n",
    "\n",
    "# Generate a word cloud\n",
    "wordcloud.generate(all_words)\n",
    "\n",
    "# Visualize the word cloud\n",
    "wordcloud.to_image()"
   ]
  },
  {
   "cell_type": "markdown",
   "source": [
    "Export the data"
   ],
   "metadata": {
    "collapsed": false
   }
  },
  {
   "cell_type": "code",
   "execution_count": null,
   "id": "399e5ca3-abff-400f-9970-137e6724b3f6",
   "metadata": {},
   "outputs": [],
   "source": [
    "df.to_csv(\"translated_text.csv\")"
   ]
  }
 ],
 "metadata": {
  "kernelspec": {
   "display_name": "Python 3 (ipykernel)",
   "language": "python",
   "name": "python3"
  },
  "language_info": {
   "codemirror_mode": {
    "name": "ipython",
    "version": 3
   },
   "file_extension": ".py",
   "mimetype": "text/x-python",
   "name": "python",
   "nbconvert_exporter": "python",
   "pygments_lexer": "ipython3",
   "version": "3.9.13"
  }
 },
 "nbformat": 4,
 "nbformat_minor": 5
}
