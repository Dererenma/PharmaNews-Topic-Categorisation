{
 "cells": [
  {
   "cell_type": "markdown",
   "source": [
    "## Extract articles from InfoDesk. Created in collaboration with Sidsel Boldsen & Louise Wille from Scientific Intelligence at Novo Nordisk"
   ],
   "metadata": {
    "collapsed": false
   }
  },
  {
   "cell_type": "markdown",
   "source": [
    "Load the Libraries"
   ],
   "metadata": {
    "collapsed": false
   }
  },
  {
   "cell_type": "code",
   "execution_count": null,
   "outputs": [],
   "source": [
    "import os\n",
    "import json\n",
    "import pandas as pd\n",
    "import requests\n",
    "from dateutil.relativedelta import relativedelta"
   ],
   "metadata": {
    "collapsed": false
   }
  },
  {
   "cell_type": "code",
   "execution_count": null,
   "metadata": {},
   "outputs": [],
   "source": [
    "import warnings\n",
    "warnings.filterwarnings(\"ignore\")"
   ]
  },
  {
   "cell_type": "markdown",
   "metadata": {},
   "source": [
    "Functions"
   ]
  },
  {
   "cell_type": "code",
   "execution_count": null,
   "metadata": {},
   "outputs": [],
   "source": [
    "def post_request(start_date, end_date, profile=None, channel=None, limit=1000):\n",
    "\n",
    "    #auth details. Novo Nordisk Credentials. Has to be changed to your own.\n",
    "    #username = ####\n",
    "    #password = ####\n",
    "\n",
    "    #api_key = ####\n",
    "    #realm = ####\n",
    "\n",
    "    # Get Bearer token\n",
    "    data = {\"username\":f\"{username}\",\"password\":f\"{password}\"}\n",
    "    headers = {'Content-Type': \"application/json\", \"accept\":\"application/json\",\n",
    "               \"X-API-KEY\":f\"{api_key}\", 'realm':f\"{realm}\"}\n",
    "    \n",
    "    url = \"https://api.infodesk.com/auth/v1/login?realm=infoauth.infodesk.com\"\n",
    "\n",
    "    bearer_token = json.loads(requests.post(url, json=data, headers=headers, verify=False).text)[\"access_token\"]\n",
    "    print(bearer_token)\n",
    "    #bearer_token = \"eyJ0eXAiOiJKV1QiLCJ6aXAiOiJERUYiLCJhbGciOiJSUzI1NiJ9.dVDLTsQgFP0X1sOUFgq0K3UzmcS4MO6MaXjVwWlhAoyPGP9d6DiJYyIrcs_jnnM_QTxK0IPN7fbambd45fyrdz5oG_dr5WewAuKobXoIQu2te97qTKatro1pMUQNE5BIjaFsMYWE0VbSkXedNFloY8zkXUqH2FdVjH5t3ei1OTn3hOAyrLw4pl1TBSOmOVbB-3T-F3oBL3TZOPm9cXdiNtleKGViHJbRGRrSx6FgN0YEE5YKabcJwqUlviEdbgknsGsbDYmoMeRdI2A9MsRlPSrD-Kl3JluXTHBi-pvByRH0NeWoZphitgJR-bL0EQg9W3fvp3KCWdgJPJ0CDMmWxL81S8-85N-m5v3wo-AcFYUV6dIiM2wwcbAuzwlB5a3AS7LZFivNacM41A0jkGhGoVQUwY4ShSTuJKcIfH0D.wEKa9m3e2yRVeKtAKGrioGK0mrRKd0zzfIXSrHPc1OyoAW3Ve4eK-CFlYsJFAA_qGegGzbuq7wjSu-nkZWzinXDxgngBzjBU2CMt6sjBRW2g0ejFgHJwQPTVfVIy939xmNQEK2JY2Z47untKeyktIajaytPchEzHI-uTolg00Mg\"\n",
    "\n",
    "    # Search\n",
    "    url = 'https://api.infodesk.com/data/v1/search'\n",
    "    headers = {'Content-Type': \"application/json\", 'Authorization': f\"Bearer {bearer_token}\",\n",
    "               \"accept\":\"*/*\", \"X-API-KEY\":f\"{api_key}\", 'realm':f\"{realm}\"}\n",
    "\n",
    "    data={\"queryString\":\"\",\n",
    "          \"searchOptions\":{\"startDate\":start_date, \"endDate\":end_date,\n",
    "                           \"includeOldRevisions\":False,},\n",
    "                           \"retrievalOptions\":{\"sortOrder\":\"NEWEST_FIRST\",\n",
    "                                               \"limit\":\"1000\",\n",
    "                                               \"start\":\"0\",\n",
    "                                               \"grouping\":\"NONE\",\n",
    "                                               \"fields\":[\"HEADLINE\",\"DESCRIPTION\",\"LEAD\",\"BYLINE\",\"DOCTIME\",\"TIMESTAMP\",\"CONTENTCATEGORY\",\"CREDITLINE\",\"DATELINE\",\"EDNOTE\",\"GENRE\",\"LANG\",\"PROVIDER\",\"SLUGLINE\",\"ORIGINALURL\",\"ORIGINALID\",\"LOCATION\",\"COUNTRY\",\"ORGANIZATION\",\"INDUSTRY\",\"PUBLICATION\",\"PUBDATE\",\"KEYWORDS\",\"TOPICS\",\"DRUG\",\"DRUGCLASS\",\"MEDFORM\",\"MOA\",\"MEDINDICATION\",\"MEDPHASE\",\"GENETARGET\",\"CONFERENCE\"]}}\n",
    "\n",
    "    if profile: data[\"profile\"] = profile\n",
    "    if channel: data[\"searchOptions\"][\"sources\"] = [{\"CHANNEL\":channel},],\n",
    "    if limit: data[\"retrievalOptions\"][\"limit\"] = str(limit),\n",
    "\n",
    "    print(url)\n",
    "    print(data)\n",
    "    print(headers)\n",
    "\n",
    "    return requests.post(url, json=data, headers=headers, verify=False)\n",
    "    #return \"Error\"\n",
    "\n",
    "\n",
    "def parse(response):\n",
    "    \n",
    "    if response.status_code!=200:\n",
    "        print(f\"Request not successful {response.status_code}: '{response.text}'\")\n",
    "        return []\n",
    "    \n",
    "    try:\n",
    "        results = json.loads(response.text)[\"resultSet\"][\"results\"]\n",
    "    except KeyError:\n",
    "        results = []\n",
    "    \n",
    "    print(f\"Request successful: 'Found {len(results)} data points'\")\n",
    "    \n",
    "    return results\n",
    "\n",
    "def get_data(start_date, end_date, **kwargs):\n",
    "\n",
    "    results = [True]\n",
    "\n",
    "    while len(results)!=0:\n",
    "        response = post_request(start_date, end_date, **kwargs)\n",
    "\n",
    "        results = parse(response)\n",
    "\n",
    "        if len(results) > 0:\n",
    "            end_date = results[-1][\"date\"]\n",
    "            date_formatted = pd.to_datetime(end_date)\n",
    "\n",
    "            # Subtract one day from end date\n",
    "            prev_day = date_formatted - relativedelta(days=1)\n",
    "            end_date = f\"{prev_day.year:02d}-{prev_day.month:02d}-{prev_day.day:02d}T{prev_day.hour:02d}:{prev_day.minute:02d}:{prev_day.second:02d}.701Z\"\n",
    "\n",
    "            results = {\n",
    "                \"profile\":profile,\n",
    "                \"results\":results\n",
    "            }\n",
    "\n",
    "        else:\n",
    "            date_formatted = pd.to_datetime(start_date)\n",
    "\n",
    "            # Subtract one day from start date to get new end date\n",
    "            prev_day = date_formatted - relativedelta(days=1)\n",
    "            end_date = f\"{prev_day.year:02d}-{prev_day.month:02d}-{prev_day.day:02d}T{prev_day.hour:02d}:{prev_day.minute:02d}:{prev_day.second:02d}.701Z\"\n",
    "\n",
    "            # Set start date to new date\n",
    "            start_date = f\"{date_formatted.year:02d}-{date_formatted.month:02d}-{date_formatted.day:02d}T{date_formatted.hour:02d}:{date_formatted.minute:02d}:{date_formatted.second:02d}.701Z\"\n",
    "\n",
    "            results = {\n",
    "                \"profile\":profile,\n",
    "                \"results\":results\n",
    "            }\n",
    "\n",
    "            break\n",
    "\n",
    "        yield results, start_date, end_date"
   ]
  },
  {
   "cell_type": "markdown",
   "metadata": {},
   "source": [
    "Extract the new articles to MEMO using the set date time and profile from the main interface"
   ]
  },
  {
   "cell_type": "code",
   "execution_count": null,
   "metadata": {},
   "outputs": [],
   "source": [
    "from datetime import datetime, timedelta\n",
    "import pytz\n",
    "\n",
    "#read profile-data from the JSON file\n",
    "with open('data/profiles.json', 'r') as d:\n",
    "    profile_data = json.load(d)\n",
    "\n",
    "profiles = profile_data[\"profiles\"]\n",
    "\n",
    "#read time-data from the JSON file\n",
    "with open('data/dates.json', 'r') as f:\n",
    "    date_data = json.load(f)\n",
    "\n",
    "start_date, end_date = date_data[\"start_date\"], date_data[\"end_date\"]\n",
    "\n",
    "#edit to change data directory\n",
    "data_directory = \"/Users/carljohanson/Desktop/Speciale - Code Project/Code/data/InfoDesk\"\n",
    "\n",
    "for profile in profiles:\n",
    "    args = {\n",
    "        \"channel\":None,\n",
    "        \"profile\":profile,\n",
    "        \"limit\":None,\n",
    "    }\n",
    "\n",
    "    for result, start_date, end_date in get_data(start_date, end_date, **args):\n",
    "        format_end = pd.to_datetime(end_date)\n",
    "        format_start = pd.to_datetime(start_date)\n",
    "        file_path = os.path.join(data_directory, f\"{profile}-{format_end.year:02d}-{format_end.month:02d}-{format_end.day:02d}.json\")\n",
    "        with open(file_path, \"w\") as f:\n",
    "            f.write(json.dumps(result))"
   ]
  }
 ],
 "metadata": {
  "kernelspec": {
   "display_name": "Python 3 (ipykernel)",
   "language": "python",
   "name": "python3"
  },
  "language_info": {
   "codemirror_mode": {
    "name": "ipython",
    "version": 3
   },
   "file_extension": ".py",
   "mimetype": "text/x-python",
   "name": "python",
   "nbconvert_exporter": "python",
   "pygments_lexer": "ipython3",
   "version": "3.9.13"
  }
 },
 "nbformat": 4,
 "nbformat_minor": 4
}
