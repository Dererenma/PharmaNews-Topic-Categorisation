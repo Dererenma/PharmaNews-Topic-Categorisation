{
 "cells": [
  {
   "cell_type": "markdown",
   "source": [
    "Concatenate JSON files"
   ],
   "metadata": {
    "collapsed": false
   }
  },
  {
   "cell_type": "code",
   "execution_count": null,
   "outputs": [],
   "source": [
    "#edit to change data directory\n",
    "data_directory = \"/Users/carljohanson/Desktop/Speciale - Code Project/Code/data/InfoDesk\"\n",
    "\n",
    "name = \"daily_MEMO_data\" #adjust to change name of CSV file\n",
    "directory = os.fsencode(data_directory)\n",
    "\n",
    "include_fields = {\n",
    "    \"description\": \"strings\"\n",
    "}\n",
    "\n",
    "out = []\n",
    "\n",
    "header = [\"profile\", \"date\"].extend(include_fields.keys())\n",
    "\n",
    "for file in os.listdir(directory):\n",
    "\n",
    "    filename = os.fsdecode(file)\n",
    "\n",
    "    if filename.endswith(\".json\"):\n",
    "\n",
    "        path= os.path.join(data_directory, filename)\n",
    "\n",
    "        print(f\"Reading file: {path}\")\n",
    "\n",
    "        with open(path, \"r\") as f:\n",
    "            data = json.loads(f.read())\n",
    "\n",
    "        results = data[\"results\"]\n",
    "        profile = data[\"profile\"]\n",
    "\n",
    "        for match in results:\n",
    "\n",
    "            data = []\n",
    "\n",
    "            raw_date = match[\"date\"]\n",
    "\n",
    "            data.append(str(pd.to_datetime(raw_date)))\n",
    "            data.append(profile)\n",
    "\n",
    "            inverted_fields = {}\n",
    "\n",
    "            try: fields = match.get(\"fields\")\n",
    "            except KeyError: continue\n",
    "\n",
    "            if not fields: continue\n",
    "            for field in fields:\n",
    "\n",
    "                field_id = field[\"id\"]\n",
    "\n",
    "                if field_id in include_fields:\n",
    "\n",
    "                    inverted_fields[field_id] = field[include_fields[field_id]][0] #method for extraction should be a lambda in the include fields value\n",
    "\n",
    "\n",
    "            data.extend(map(lambda idx: inverted_fields.get(idx, \"\"), include_fields))\n",
    "\n",
    "            out.append(data)\n",
    "\n",
    "        #delete the files after they have been processed\n",
    "        os.remove(path)\n",
    "\n",
    "file_path = os.path.join(data_directory, f\"{name}\")\n",
    "\n",
    "with open(file_path, \"w\") as f:\n",
    "    for m in out:\n",
    "        try:\n",
    "            f.write(\"\\t\".join(m)+\"\\n\")\n",
    "\n",
    "        except UnicodeEncodeError:\n",
    "            print(\"Unicode error:\", m)\n",
    "            continue"
   ],
   "metadata": {
    "collapsed": false
   }
  }
 ],
 "metadata": {
  "kernelspec": {
   "display_name": "Python 3",
   "language": "python",
   "name": "python3"
  },
  "language_info": {
   "codemirror_mode": {
    "name": "ipython",
    "version": 2
   },
   "file_extension": ".py",
   "mimetype": "text/x-python",
   "name": "python",
   "nbconvert_exporter": "python",
   "pygments_lexer": "ipython2",
   "version": "2.7.6"
  }
 },
 "nbformat": 4,
 "nbformat_minor": 0
}
